{
 "cells": [
  {
   "cell_type": "markdown",
   "id": "0966d5a1",
   "metadata": {
    "slideshow": {
     "slide_type": "slide"
    }
   },
   "source": [
    "# OpenAi Gym MountainCar-v0"
   ]
  },
  {
   "cell_type": "code",
   "execution_count": 4,
   "id": "e188fc46",
   "metadata": {
    "slideshow": {
     "slide_type": "slide"
    }
   },
   "outputs": [],
   "source": [
    "import numpy as np\n",
    "import gym\n",
    "import matplotlib\n",
    "import matplotlib.pyplot as plt"
   ]
  },
  {
   "cell_type": "markdown",
   "id": "c9e853d2",
   "metadata": {
    "slideshow": {
     "slide_type": "slide"
    }
   },
   "source": [
    "## Helper functions"
   ]
  },
  {
   "cell_type": "code",
   "execution_count": 5,
   "id": "a9fe3fc5",
   "metadata": {
    "slideshow": {
     "slide_type": "slide"
    }
   },
   "outputs": [],
   "source": [
    "env = gym.make('MountainCar-v0')\n",
    "# Discritize observation and action space in bins.\n",
    "pos_space = np.linspace(-1.2, 0.6, 18)\n",
    "vel_space = np.linspace(-0.07, 0.07, 28)\n",
    "\n",
    "# given observation, returns what bin\n",
    "def getState(observation):\n",
    "    pos, vel = observation\n",
    "    pos_bin = np.digitize(pos, pos_space)\n",
    "    vel_bin = np.digitize(vel, vel_space)\n",
    "    return (pos_bin, vel_bin)\n",
    "\n",
    "# Creates a new empty Q-table for this environment\n",
    "def createEmptyQTable():\n",
    "    states = []\n",
    "    for pos in range(len(pos_space) + 1):\n",
    "        for vel in range(len(vel_space) + 1):\n",
    "            states.append((pos,vel))\n",
    "        \n",
    "    Q = {}\n",
    "    for state in states:\n",
    "        for action in range(env.action_space.n):\n",
    "            Q[state, action] = 0\n",
    "    return Q\n",
    "\n",
    "# Given a state and a set of actions\n",
    "# returns action that has the highest Q-value\n",
    "def maxAction(Q, state, actions=[0, 1, 2]):\n",
    "    values = np.array([Q[state,a] for a in actions])\n",
    "    action = np.argmax(values)\n",
    "    return action"
   ]
  },
  {
   "cell_type": "markdown",
   "id": "ccc1e2d3",
   "metadata": {
    "slideshow": {
     "slide_type": "slide"
    }
   },
   "source": [
    "## Q-Learning"
   ]
  },
  {
   "cell_type": "code",
   "execution_count": 6,
   "id": "db448e42",
   "metadata": {
    "scrolled": true,
    "slideshow": {
     "slide_type": "subslide"
    }
   },
   "outputs": [],
   "source": [
    "import gym\n",
    "import random\n",
    "import numpy as np\n",
    "\n",
    "def Q_learning(alpha, gamma, epsilon, episodes):\n",
    "    env = gym.make('MountainCar-v0')\n",
    "    env._max_episode_steps = 1000\n",
    "\n",
    "    # Create an empty Q-table\n",
    "    Q = createEmptyQTable()\n",
    "\n",
    "    score = 0\n",
    "    reward_list = []\n",
    "    avg_reward_list = []\n",
    "    # Variable to keep track of the total score obtained\n",
    "    # at each episode to plot it later\n",
    "    total_score = np.zeros(episodes)\n",
    "\n",
    "    for i in range(episodes):\n",
    "        done = False\n",
    "        observation = env.reset()\n",
    "        state = getState(observation)\n",
    "    \n",
    "        if i % 500 == 0:\n",
    "            print(f'episode: {i}, score: {score}, epsilon: {epsilon:0.3f}')\n",
    "    \n",
    "        score = 0\n",
    "        while not done:\n",
    "            # e-Greedy strategy\n",
    "            # Explore random action with probability epsilon\n",
    "            if random.uniform(0, 1) < epsilon:\n",
    "                action = env.action_space.sample()\n",
    "            # Take best action with probability 1-epsilon\n",
    "            else:\n",
    "                action = maxAction(Q, state)\n",
    "        \n",
    "            # Observe next state based on \n",
    "            next_observation, reward, done, info = env.step(action)\n",
    "            next_state = getState(next_observation)\n",
    "        \n",
    "            # Add reward to the score of the episode\n",
    "            score += reward\n",
    "        \n",
    "            # Get next action\n",
    "            next_action = maxAction(Q, next_state)\n",
    "        \n",
    "            # Update Q value for state and action given the bellman equation\n",
    "            Q[state, action] = Q[state, action] + alpha * (reward + gamma * Q[next_state, next_action] - Q[state, action]) \n",
    "        \n",
    "            # Move to next state\n",
    "            state = next_state\n",
    "\n",
    "        # Save score for this episode\n",
    "        total_score[i] = score\n",
    "    \n",
    "        reward_list.append(total_score)\n",
    "\n",
    "        if (i+1) % 100 == 0:\n",
    "                avg_reward = np.mean(reward_list)\n",
    "                avg_reward_list.append(avg_reward)\n",
    "                reward_list = []\n",
    "            \n",
    "            \n",
    "        # Reduce epsilon \n",
    "        epsilon = epsilon - 2/episodes if epsilon > 0.01 else 0.01\n",
    "        \n",
    "    return Q, avg_reward_list"
   ]
  },
  {
   "cell_type": "markdown",
   "id": "e6548693",
   "metadata": {
    "slideshow": {
     "slide_type": "slide"
    }
   },
   "source": [
    "# SARSA-Learning"
   ]
  },
  {
   "cell_type": "code",
   "execution_count": 7,
   "id": "43f7a8ca",
   "metadata": {
    "slideshow": {
     "slide_type": "-"
    }
   },
   "outputs": [],
   "source": [
    "def SARSA_learning(alpha, gamma, epsilon, episodes):\n",
    "    env = gym.make('MountainCar-v0')\n",
    "    env._max_episode_steps = 1000\n",
    "\n",
    "    # Create an empty Q-table\n",
    "    Q = createEmptyQTable()\n",
    "\n",
    "    score = 0\n",
    "    reward_list = []\n",
    "    avg_reward_list = []\n",
    "    # Variable to keep track of the total score obtained at each episode\n",
    "    total_score = np.zeros(episodes)\n",
    "\n",
    "    for i in range(episodes):\n",
    "        if i % 500 == 0:\n",
    "            print(f'episode: {i}, score: {score}, epsilon: {epsilon:0.3f}')\n",
    "    \n",
    "        observation = env.reset()\n",
    "        state = getState(observation)\n",
    "\n",
    "        # e-Greedy strategy\n",
    "        # Explore random action with probability epsilon\n",
    "        if random.uniform(0, 1) < epsilon:\n",
    "            action = env.action_space.sample()\n",
    "        # Take best action with probability 1-epsilon\n",
    "        else:\n",
    "            action = maxAction(Q, state)\n",
    "    \n",
    "        score = 0\n",
    "        done = False\n",
    "        while not done:\n",
    "            # Take action and observe next state\n",
    "            next_observation, reward, done, info = env.step(action)\n",
    "            next_state = getState(next_observation)\n",
    "        \n",
    "            # Get next action following e-Greedy policy\n",
    "            if random.uniform(0, 1) < epsilon:\n",
    "                next_action = env.action_space.sample()\n",
    "            else:\n",
    "                next_action= maxAction(Q, next_state)\n",
    "        \n",
    "            # Add reward to the score of the episode\n",
    "            score += reward\n",
    "\n",
    "            # Update Q value for state and action given the bellman equation\n",
    "            Q[state, action] = Q[state, action] + alpha * (reward + gamma * Q[next_state, next_action] - Q[state, action]) \n",
    "        \n",
    "            # Move to next state, and next action\n",
    "            state, action = next_state, next_action\n",
    "\n",
    "        total_score[i] = score\n",
    "    \n",
    "        reward_list.append(total_score)\n",
    "    \n",
    "        if (i+1) % 100 == 0:\n",
    "            avg_reward = np.mean(reward_list)\n",
    "            avg_reward_list.append(avg_reward)\n",
    "            reward_list = []\n",
    "            \n",
    "        epsilon = epsilon - 2/episodes if epsilon > 0.01 else 0.01\n",
    "        \n",
    "    return Q, avg_reward_list        "
   ]
  },
  {
   "cell_type": "markdown",
   "id": "dc8bf0b2",
   "metadata": {
    "slideshow": {
     "slide_type": "slide"
    }
   },
   "source": [
    "### Run"
   ]
  },
  {
   "cell_type": "code",
   "execution_count": 9,
   "id": "ea947da0",
   "metadata": {
    "scrolled": true,
    "slideshow": {
     "slide_type": "slide"
    }
   },
   "outputs": [
    {
     "name": "stdout",
     "output_type": "stream",
     "text": [
      "episode: 0, score: 0, epsilon: 1.000\n",
      "episode: 500, score: -1000.0, epsilon: 0.950\n",
      "episode: 1000, score: -1000.0, epsilon: 0.900\n",
      "episode: 1500, score: -1000.0, epsilon: 0.850\n",
      "episode: 2000, score: -773.0, epsilon: 0.800\n",
      "episode: 2500, score: -492.0, epsilon: 0.750\n",
      "episode: 3000, score: -575.0, epsilon: 0.700\n",
      "episode: 3500, score: -629.0, epsilon: 0.650\n",
      "episode: 4000, score: -497.0, epsilon: 0.600\n",
      "episode: 4500, score: -318.0, epsilon: 0.550\n",
      "episode: 5000, score: -316.0, epsilon: 0.500\n",
      "episode: 5500, score: -238.0, epsilon: 0.450\n",
      "episode: 6000, score: -271.0, epsilon: 0.400\n",
      "episode: 6500, score: -226.0, epsilon: 0.350\n",
      "episode: 7000, score: -153.0, epsilon: 0.300\n",
      "episode: 7500, score: -158.0, epsilon: 0.250\n",
      "episode: 8000, score: -197.0, epsilon: 0.200\n",
      "episode: 8500, score: -181.0, epsilon: 0.150\n",
      "episode: 9000, score: -147.0, epsilon: 0.100\n",
      "episode: 9500, score: -192.0, epsilon: 0.050\n",
      "episode: 10000, score: -156.0, epsilon: 0.010\n",
      "episode: 10500, score: -166.0, epsilon: 0.010\n",
      "episode: 11000, score: -155.0, epsilon: 0.010\n",
      "episode: 11500, score: -214.0, epsilon: 0.010\n",
      "episode: 12000, score: -176.0, epsilon: 0.010\n",
      "episode: 12500, score: -221.0, epsilon: 0.010\n",
      "episode: 13000, score: -173.0, epsilon: 0.010\n",
      "episode: 13500, score: -160.0, epsilon: 0.010\n",
      "episode: 14000, score: -148.0, epsilon: 0.010\n",
      "episode: 14500, score: -144.0, epsilon: 0.010\n",
      "episode: 15000, score: -189.0, epsilon: 0.010\n",
      "episode: 15500, score: -169.0, epsilon: 0.010\n",
      "episode: 16000, score: -156.0, epsilon: 0.010\n",
      "episode: 16500, score: -159.0, epsilon: 0.010\n",
      "episode: 17000, score: -158.0, epsilon: 0.010\n",
      "episode: 17500, score: -154.0, epsilon: 0.010\n",
      "episode: 18000, score: -243.0, epsilon: 0.010\n",
      "episode: 18500, score: -173.0, epsilon: 0.010\n",
      "episode: 19000, score: -167.0, epsilon: 0.010\n",
      "episode: 19500, score: -185.0, epsilon: 0.010\n",
      "episode: 0, score: 0, epsilon: 1.000\n",
      "episode: 500, score: -1000.0, epsilon: 0.950\n",
      "episode: 1000, score: -1000.0, epsilon: 0.900\n",
      "episode: 1500, score: -1000.0, epsilon: 0.850\n",
      "episode: 2000, score: -1000.0, epsilon: 0.800\n",
      "episode: 2500, score: -335.0, epsilon: 0.750\n",
      "episode: 3000, score: -508.0, epsilon: 0.700\n",
      "episode: 3500, score: -591.0, epsilon: 0.650\n",
      "episode: 4000, score: -397.0, epsilon: 0.600\n",
      "episode: 4500, score: -275.0, epsilon: 0.550\n",
      "episode: 5000, score: -247.0, epsilon: 0.500\n",
      "episode: 5500, score: -232.0, epsilon: 0.450\n",
      "episode: 6000, score: -325.0, epsilon: 0.400\n",
      "episode: 6500, score: -232.0, epsilon: 0.350\n",
      "episode: 7000, score: -158.0, epsilon: 0.300\n",
      "episode: 7500, score: -224.0, epsilon: 0.250\n",
      "episode: 8000, score: -145.0, epsilon: 0.200\n",
      "episode: 8500, score: -147.0, epsilon: 0.150\n",
      "episode: 9000, score: -182.0, epsilon: 0.100\n",
      "episode: 9500, score: -137.0, epsilon: 0.050\n",
      "episode: 10000, score: -150.0, epsilon: 0.010\n",
      "episode: 10500, score: -146.0, epsilon: 0.010\n",
      "episode: 11000, score: -189.0, epsilon: 0.010\n",
      "episode: 11500, score: -151.0, epsilon: 0.010\n",
      "episode: 12000, score: -136.0, epsilon: 0.010\n",
      "episode: 12500, score: -190.0, epsilon: 0.010\n",
      "episode: 13000, score: -204.0, epsilon: 0.010\n",
      "episode: 13500, score: -147.0, epsilon: 0.010\n",
      "episode: 14000, score: -149.0, epsilon: 0.010\n",
      "episode: 14500, score: -150.0, epsilon: 0.010\n",
      "episode: 15000, score: -158.0, epsilon: 0.010\n",
      "episode: 15500, score: -154.0, epsilon: 0.010\n",
      "episode: 16000, score: -141.0, epsilon: 0.010\n",
      "episode: 16500, score: -107.0, epsilon: 0.010\n",
      "episode: 17000, score: -138.0, epsilon: 0.010\n",
      "episode: 17500, score: -149.0, epsilon: 0.010\n",
      "episode: 18000, score: -118.0, epsilon: 0.010\n",
      "episode: 18500, score: -141.0, epsilon: 0.010\n",
      "episode: 19000, score: -189.0, epsilon: 0.010\n",
      "episode: 19500, score: -146.0, epsilon: 0.010\n"
     ]
    }
   ],
   "source": [
    "alpha = 0.1 # Learning Rate\n",
    "gamma = 0.9 # Discount Factor \n",
    "epsilon = 1 # e-Greedy \n",
    "episodes = 20000 # number of episodes\n",
    "    \n",
    "Q_Q, Q_rewards = Q_learning(alpha, gamma, epsilon, episodes) \n",
    "SARSA_Q, SARSA_rewards = SARSA_learning(alpha, gamma, epsilon, episodes)"
   ]
  },
  {
   "cell_type": "code",
   "execution_count": 10,
   "id": "53424de2",
   "metadata": {
    "slideshow": {
     "slide_type": "slide"
    }
   },
   "outputs": [],
   "source": [
    "def run(Q):\n",
    "    for episode in range(10):\n",
    "        done = False\n",
    "        observation = env.reset()\n",
    "        state = getState(observation)\n",
    "        # While the car don't reach the goal or number of steps < 200\n",
    "        while not done:\n",
    "            env.render()\n",
    "            # Take the best action for that state given trained values\n",
    "            action = maxAction(Q, state)\n",
    "            observation, reward, done, info = env.step(action)\n",
    "            # Go to next state\n",
    "            state = getState(observation)\n",
    "    env.close()"
   ]
  },
  {
   "cell_type": "code",
   "execution_count": 16,
   "id": "0641a634",
   "metadata": {
    "slideshow": {
     "slide_type": "slide"
    }
   },
   "outputs": [],
   "source": [
    "def plot(avg_reward_list):\n",
    "    plt.plot(100*(np.arange(len(avg_reward_list)) + 1), avg_reward_list)\n",
    "    plt.xlabel('Episodes')\n",
    "    plt.ylabel('Average Reward')\n",
    "    plt.title('Average Reward vs Episodes')\n",
    "    plt.show()   \n",
    "    plt.close() "
   ]
  },
  {
   "cell_type": "code",
   "execution_count": 12,
   "id": "fe3b5a55",
   "metadata": {
    "slideshow": {
     "slide_type": "slide"
    }
   },
   "outputs": [],
   "source": [
    "run(Q_Q)\n",
    "run(SARSA_Q)"
   ]
  },
  {
   "cell_type": "code",
   "execution_count": 17,
   "id": "94d02ade",
   "metadata": {
    "slideshow": {
     "slide_type": "slide"
    }
   },
   "outputs": [
    {
     "data": {
      "image/png": "[encoded data removed]",
      "text/plain": [
       "<Figure size 432x288 with 1 Axes>"
      ]
     },
     "metadata": {
      "needs_background": "light"
     },
     "output_type": "display_data"
    }
   ],
   "source": [
    "plot(Q_rewards)"
   ]
  },
  {
   "cell_type": "code",
   "execution_count": null,
   "id": "b230d870",
   "metadata": {},
   "outputs": [],
   "source": []
  }
 ],
 "metadata": {
  "celltoolbar": "Slideshow",
  "kernelspec": {
   "display_name": "Python 3 (ipykernel)",
   "language": "python",
   "name": "python3"
  },
  "language_info": {
   "codemirror_mode": {
    "name": "ipython",
    "version": 3
   },
   "file_extension": ".py",
   "mimetype": "text/x-python",
   "name": "python",
   "nbconvert_exporter": "python",
   "pygments_lexer": "ipython3",
   "version": "3.9.7"
  }
 },
 "nbformat": 4,
 "nbformat_minor": 5
}
